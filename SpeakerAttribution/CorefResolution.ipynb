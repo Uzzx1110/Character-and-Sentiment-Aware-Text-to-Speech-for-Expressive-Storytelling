{
 "cells": [
  {
   "cell_type": "code",
   "execution_count": 1,
   "id": "c47f8600",
   "metadata": {},
   "outputs": [
    {
     "name": "stderr",
     "output_type": "stream",
     "text": [
      "c:\\Users\\uzmap\\anaconda3\\envs\\python310\\lib\\site-packages\\huggingface_hub\\file_download.py:797: FutureWarning: `resume_download` is deprecated and will be removed in version 1.0.0. Downloads always resume when possible. If you want to force a new download, use `force_download=True`.\n",
      "  warnings.warn(\n",
      "c:\\Users\\uzmap\\anaconda3\\envs\\python310\\lib\\site-packages\\transformers\\modeling_utils.py:463: FutureWarning: You are using `torch.load` with `weights_only=False` (the current default value), which uses the default pickle module implicitly. It is possible to construct malicious pickle data which will execute arbitrary code during unpickling (See https://github.com/pytorch/pytorch/blob/main/SECURITY.md#untrusted-models for more details). In a future release, the default value for `weights_only` will be flipped to `True`. This limits the functions that could be executed during unpickling. Arbitrary objects will no longer be allowed to be loaded via this mode unless they are explicitly allowlisted by the user via `torch.serialization.add_safe_globals`. We recommend you start setting `weights_only=True` for any use case where you don't have full control of the loaded file. Please open an issue on GitHub for any issues related to this experimental feature.\n",
      "  return torch.load(checkpoint_file, map_location=\"cpu\")\n",
      "04/21/2025 19:56:38 - INFO - \t missing_keys: []\n",
      "04/21/2025 19:56:38 - INFO - \t unexpected_keys: []\n",
      "04/21/2025 19:56:38 - INFO - \t mismatched_keys: []\n",
      "04/21/2025 19:56:38 - INFO - \t error_msgs: []\n",
      "04/21/2025 19:56:38 - INFO - \t Model Parameters: 90.5M, Transformer: 82.1M, Coref head: 8.4M\n"
     ]
    }
   ],
   "source": [
    "import re\n",
    "import spacy\n",
    "from fastcoref import spacy_component\n",
    "\n",
    "# Load SpaCy model\n",
    "nlp = spacy.load(\"en_core_web_sm\")\n",
    "nlp.add_pipe(\"fastcoref\")  # Add coreference resolution component\n",
    "\n",
    "def mask_double_quotes(text):\n",
    "    \"\"\"Replaces all types of double-quoted text (straight or curly) with placeholders.\"\"\"\n",
    "    # Matches text inside either \"...\" or “...”, non-greedy, across lines too\n",
    "    quote_pattern = r'(?:(?:\"|“)(.*?)(?:\"|”))'\n",
    "    placeholders = {}\n",
    "    \n",
    "    def replacer(match):\n",
    "        full_quote = match.group(0)\n",
    "        placeholder = f\"__QUOTE_{len(placeholders)}__\"\n",
    "        placeholders[placeholder] = full_quote\n",
    "        return placeholder\n",
    "    \n",
    "    masked_text = re.sub(quote_pattern, replacer, text, flags=re.DOTALL)\n",
    "    return masked_text, placeholders\n",
    "\n",
    "def unmask_double_quotes(text, placeholders):\n",
    "    \"\"\"Restores the original text inside double quotes.\"\"\"\n",
    "    for placeholder, original in placeholders.items():\n",
    "        text = text.replace(placeholder, original)\n",
    "    return text\n",
    "\n",
    "def resolve_coreferences(text):\n",
    "    # Step 1: Mask double-quoted text\n",
    "    masked_text, placeholders = mask_double_quotes(text)\n",
    "\n",
    "    # Step 2: Perform coreference resolution\n",
    "    doc = nlp(masked_text, component_cfg={\"fastcoref\": {'resolve_text': True}})\n",
    "\n",
    "    # Step 3: Get resolved text\n",
    "    resolved_text = doc._.resolved_text\n",
    "\n",
    "    # Step 4: Restore double-quoted text\n",
    "    final_text = unmask_double_quotes(resolved_text, placeholders)\n",
    "    \n",
    "    return final_text"
   ]
  },
  {
   "cell_type": "code",
   "execution_count": 2,
   "id": "6a6e9bba",
   "metadata": {},
   "outputs": [
    {
     "data": {
      "text/html": [
       "<div>\n",
       "<style scoped>\n",
       "    .dataframe tbody tr th:only-of-type {\n",
       "        vertical-align: middle;\n",
       "    }\n",
       "\n",
       "    .dataframe tbody tr th {\n",
       "        vertical-align: top;\n",
       "    }\n",
       "\n",
       "    .dataframe thead th {\n",
       "        text-align: right;\n",
       "    }\n",
       "</style>\n",
       "<table border=\"1\" class=\"dataframe\">\n",
       "  <thead>\n",
       "    <tr style=\"text-align: right;\">\n",
       "      <th></th>\n",
       "      <th>story</th>\n",
       "      <th>characters</th>\n",
       "    </tr>\n",
       "  </thead>\n",
       "  <tbody>\n",
       "    <tr>\n",
       "      <th>0</th>\n",
       "      <td>In a small town named Mathville, lived two be...</td>\n",
       "      <td>Algy,Sammy</td>\n",
       "    </tr>\n",
       "    <tr>\n",
       "      <th>1</th>\n",
       "      <td>One sunny day, Alex and Jamie decided to go f...</td>\n",
       "      <td>Alex,Jamie</td>\n",
       "    </tr>\n",
       "    <tr>\n",
       "      <th>2</th>\n",
       "      <td>In the hot, dusty town of Mississippi during ...</td>\n",
       "      <td>Bowie,Chicamaw,T-Dub,Mattie,Lula,Keechie</td>\n",
       "    </tr>\n",
       "    <tr>\n",
       "      <th>3</th>\n",
       "      <td>In the bustling city of Philadelphia, Pennsyl...</td>\n",
       "      <td>Timmy,Sarah,Jimmy Lyggett SR</td>\n",
       "    </tr>\n",
       "    <tr>\n",
       "      <th>4</th>\n",
       "      <td>It was a sunny day in Home Runville, a town f...</td>\n",
       "      <td>Tommy,Alexa,Mark</td>\n",
       "    </tr>\n",
       "  </tbody>\n",
       "</table>\n",
       "</div>"
      ],
      "text/plain": [
       "                                               story  \\\n",
       "0   In a small town named Mathville, lived two be...   \n",
       "1   One sunny day, Alex and Jamie decided to go f...   \n",
       "2   In the hot, dusty town of Mississippi during ...   \n",
       "3   In the bustling city of Philadelphia, Pennsyl...   \n",
       "4   It was a sunny day in Home Runville, a town f...   \n",
       "\n",
       "                                 characters  \n",
       "0                                Algy,Sammy  \n",
       "1                                Alex,Jamie  \n",
       "2  Bowie,Chicamaw,T-Dub,Mattie,Lula,Keechie  \n",
       "3              Timmy,Sarah,Jimmy Lyggett SR  \n",
       "4                          Tommy,Alexa,Mark  "
      ]
     },
     "execution_count": 2,
     "metadata": {},
     "output_type": "execute_result"
    }
   ],
   "source": [
    "from datasets import load_dataset\n",
    "import pandas as pd\n",
    "\n",
    "# Load the dataset\n",
    "ds = load_dataset(\"honicky/short_childrens_stories_with_labeled_character_names\")\n",
    "\n",
    "# Convert the training set to a DataFrame\n",
    "df_train = pd.DataFrame(ds['train'])\n",
    "df_train.head()"
   ]
  },
  {
   "cell_type": "code",
   "execution_count": 5,
   "id": "52a241fb",
   "metadata": {},
   "outputs": [
    {
     "name": "stderr",
     "output_type": "stream",
     "text": [
      "04/21/2025 20:01:44 - INFO - \t Tokenize 1 inputs...\n"
     ]
    },
    {
     "data": {
      "application/vnd.jupyter.widget-view+json": {
       "model_id": "e5a38c4f25ed4f7ea7d5572275d05903",
       "version_major": 2,
       "version_minor": 0
      },
      "text/plain": [
       "Map:   0%|          | 0/1 [00:00<?, ? examples/s]"
      ]
     },
     "metadata": {},
     "output_type": "display_data"
    },
    {
     "name": "stderr",
     "output_type": "stream",
     "text": [
      "04/21/2025 20:01:44 - INFO - \t ***** Running Inference on 1 texts *****\n"
     ]
    },
    {
     "data": {
      "application/vnd.jupyter.widget-view+json": {
       "model_id": "2d8e1cacf659419b89f4fdf17147c8ee",
       "version_major": 2,
       "version_minor": 0
      },
      "text/plain": [
       "Inference:   0%|          | 0/1 [00:00<?, ?it/s]"
      ]
     },
     "metadata": {},
     "output_type": "display_data"
    }
   ],
   "source": [
    "# Resolve coreferences\n",
    "resolved_texts = resolve_coreferences(df_train[\"story\"][1550])"
   ]
  },
  {
   "cell_type": "code",
   "execution_count": 6,
   "id": "a00eb5c6",
   "metadata": {},
   "outputs": [
    {
     "data": {
      "text/plain": [
       "' In a small town named Chillyville, way up north in Alaska, lived two curious little seeds named Almond and Aloi. two curious little seeds named Almond and Aloi dreamed of becoming big and strong like the trees and flowers two curious little seeds named Almond and Aloi had heard about in two curious little seeds named Almond and Aloi\\'s seed stories. One sunny day, two curious little seeds named Almond and Aloi decided to set out on an adventure to find two curious little seeds named Almond and Aloi\\'s perfect home to grow.\\n\\nAs two curious little seeds named Almond and Aloi rolled along, Almond asked, \"Have you ever wondered what kind of place would be best for us?\" Aloi replied thoughtfully, \"Well, I know we need warmth and water, so let\\'s explore and see what we can find!\"\\n\\ntwo curious little seeds named Almond and Aloi came across many beautiful places—shiny snowy mountains, deep blue lakes, and dense forests. But something didn\\'t feel right; neither Almond nor Aloi felt two curious little seeds named Almond and Aloi growing or thriving. Eventually, two curious little seeds named Almond and Aloi met Wise Old Squirrel who noticed how tired and sad two curious little seeds named Almond and Aloi looked. Wise Old Squirrel who noticed how tired and sad they looked asked if Wise Old Squirrel who noticed how tired and sad they looked could help.\\n\\nAlmond shared two curious little seeds named Almond and Aloi\\'s dreams and struggles. Kindly, Wise Old Squirrel who noticed how tired and sad they looked explained, \"Dear friends, your stories told of different lands—Mediterranean for Almond and Southern African deserts for Aloi. You won\\'t flourish here because our weather changes drastically each season.\" Disappointment washed over both Almond and Aloi, realizing that sometimes dreams don\\'t come true exactly as imagined.\\n\\nHowever, understanding the importance of finding two curious little seeds named Almond and Aloi\\'s correct environments gave two curious little seeds named Almond and Aloi hope. Although not together, two curious little seeds named Almond and Aloi knew that someday two curious little seeds named Almond and Aloi might become those magnificent trees and flowers, inspiring future generations of seeds. And maybe, somewhere down the line, destiny will bring two curious little seeds named Almond and Aloi back together again! So, remember kids, even when things aren\\'t picture-perfect, learning and adapting lead to new opportunities!'"
      ]
     },
     "execution_count": 6,
     "metadata": {},
     "output_type": "execute_result"
    }
   ],
   "source": [
    "resolved_texts"
   ]
  },
  {
   "cell_type": "code",
   "execution_count": null,
   "id": "3c27b7ed",
   "metadata": {},
   "outputs": [],
   "source": []
  }
 ],
 "metadata": {
  "kernelspec": {
   "display_name": "python310",
   "language": "python",
   "name": "python3"
  },
  "language_info": {
   "codemirror_mode": {
    "name": "ipython",
    "version": 3
   },
   "file_extension": ".py",
   "mimetype": "text/x-python",
   "name": "python",
   "nbconvert_exporter": "python",
   "pygments_lexer": "ipython3",
   "version": "3.10.16"
  }
 },
 "nbformat": 4,
 "nbformat_minor": 5
}
