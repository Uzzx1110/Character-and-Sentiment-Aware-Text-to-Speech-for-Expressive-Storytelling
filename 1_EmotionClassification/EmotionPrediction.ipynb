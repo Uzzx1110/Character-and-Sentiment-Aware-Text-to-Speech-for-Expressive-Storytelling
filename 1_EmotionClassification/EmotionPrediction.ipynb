{
 "cells": [
  {
   "cell_type": "code",
   "execution_count": 1,
   "id": "715d5b96",
   "metadata": {},
   "outputs": [
    {
     "name": "stdout",
     "output_type": "stream",
     "text": [
      "['EmotionClassfication.ipynb', 'EmotionPrediction.ipynb', 'emotion_classifier_model.h5', 'emotion_classifier_model.keras', 'maxlen.txt', 'tokenizer.pkl', 'TwitterComments.csv']\n"
     ]
    }
   ],
   "source": [
    "import os\n",
    "print(os.listdir())"
   ]
  },
  {
   "cell_type": "code",
   "execution_count": 3,
   "id": "7f5a3871",
   "metadata": {},
   "outputs": [
    {
     "name": "stderr",
     "output_type": "stream",
     "text": [
      "WARNING:absl:Compiled the loaded model, but the compiled metrics have yet to be built. `model.compile_metrics` will be empty until you train or evaluate the model.\n"
     ]
    },
    {
     "name": "stdout",
     "output_type": "stream",
     "text": [
      "\u001b[1m1/1\u001b[0m \u001b[32m━━━━━━━━━━━━━━━━━━━━\u001b[0m\u001b[37m\u001b[0m \u001b[1m1s\u001b[0m 516ms/step\n",
      "Predicted Emotion: sadness\n"
     ]
    }
   ],
   "source": [
    "import pickle\n",
    "import numpy as np\n",
    "from tensorflow.keras.preprocessing.sequence import pad_sequences\n",
    "from tensorflow.keras.models import load_model\n",
    "import pandas as pd\n",
    "\n",
    "# === Step 1: Load the saved tokenizer ===\n",
    "with open(\"tokenizer.pkl\", \"rb\") as f:\n",
    "    tokenizer = pickle.load(f)\n",
    "\n",
    "# === Step 2: Load the saved maxlen ===\n",
    "with open(\"maxlen.txt\", \"r\") as f:\n",
    "    maxlen = int(f.read())\n",
    "\n",
    "# === Step 3: Load the trained model ===\n",
    "model = load_model(\"emotion_classifier_model.h5\")\n",
    "\n",
    "# === Step 4: Input text to classify ===\n",
    "input_text = \"I can't believe you did that! I can't even look at you\"\n",
    "\n",
    "# === Step 5: Preprocess input text ===\n",
    "sequence = tokenizer.texts_to_sequences([input_text])\n",
    "padded_sequence = pad_sequences(sequence, maxlen=maxlen, padding='post')\n",
    "\n",
    "# === Step 6: Predict emotion ===\n",
    "pred_probs = model.predict(padded_sequence)\n",
    "predicted_label_index = np.argmax(pred_probs, axis=1)[0]\n",
    "\n",
    "# === Step 7: Optional — Map index to emotion label ===\n",
    "label_to_emotion = {0: 'sadness', 1: 'joy', 2: 'love', 3: 'anger', 4: 'fear', 5: 'surprise'}\n",
    "\n",
    "predicted_emotion = label_to_emotion.get(predicted_label_index, \"unknown\")\n",
    "\n",
    "print(\"Predicted Emotion:\", predicted_emotion)"
   ]
  },
  {
   "cell_type": "code",
   "execution_count": null,
   "id": "3ef8a2ae",
   "metadata": {},
   "outputs": [
    {
     "name": "stdout",
     "output_type": "stream",
     "text": [
      "✅ All dialogues classified — saved to 'quotes_with_emotions.csv'\n"
     ]
    }
   ],
   "source": [
    "# === Read the CSV ===\n",
    "df = pd.read_csv(r\"D:\\Character-and-Sentiment-Aware-Text-to-Speech-for-Expressive-Storytelling\\EmotionClassification\\dialogue_output.csv\")  # Update with your actual file name\n",
    "\n",
    "# === Define emotion classifier ===\n",
    "def classify_emotion(text):\n",
    "    sequence = tokenizer.texts_to_sequences([text])\n",
    "    padded = pad_sequences(sequence, maxlen=maxlen, padding='post')\n",
    "    pred_probs = model.predict(padded, verbose=0)\n",
    "    label = np.argmax(pred_probs, axis=1)[0]\n",
    "    return label_to_emotion.get(label, \"unknown\")\n",
    "\n",
    "# === Apply emotion classification ===\n",
    "def assign_emotion(row):\n",
    "    if str(row[\"speaker\"]).strip().lower() == \"narrator\":\n",
    "        return \"Neutral\"\n",
    "    else:\n",
    "        return classify_emotion(row[\"text\"])\n",
    "\n",
    "# Add new column\n",
    "df[\"emotions\"] = df.apply(assign_emotion, axis=1)\n",
    "# Save the updated dataframe\n",
    "df.to_csv(\"quotes_with_emotions.csv\", index=False)\n",
    "\n",
    "print(\"✅ All dialogues classified — saved to 'quotes_with_emotions.csv'\")\n",
    "\n"
   ]
  },
  {
   "cell_type": "code",
   "execution_count": 9,
   "id": "2c46721a",
   "metadata": {},
   "outputs": [
    {
     "data": {
      "text/html": [
       "<div>\n",
       "<style scoped>\n",
       "    .dataframe tbody tr th:only-of-type {\n",
       "        vertical-align: middle;\n",
       "    }\n",
       "\n",
       "    .dataframe tbody tr th {\n",
       "        vertical-align: top;\n",
       "    }\n",
       "\n",
       "    .dataframe thead th {\n",
       "        text-align: right;\n",
       "    }\n",
       "</style>\n",
       "<table border=\"1\" class=\"dataframe\">\n",
       "  <thead>\n",
       "    <tr style=\"text-align: right;\">\n",
       "      <th></th>\n",
       "      <th>speaker</th>\n",
       "      <th>text</th>\n",
       "      <th>emotions</th>\n",
       "    </tr>\n",
       "  </thead>\n",
       "  <tbody>\n",
       "    <tr>\n",
       "      <th>0</th>\n",
       "      <td>Narrator</td>\n",
       "      <td>In a small town named Mathville, lived two bes...</td>\n",
       "      <td>Neutral</td>\n",
       "    </tr>\n",
       "    <tr>\n",
       "      <th>1</th>\n",
       "      <td>Sammy</td>\n",
       "      <td>Solve -1147 = -11*a - 1213 for ‘a’. What is th...</td>\n",
       "      <td>joy</td>\n",
       "    </tr>\n",
       "    <tr>\n",
       "      <th>2</th>\n",
       "      <td>Narrator</td>\n",
       "      <td>Algy, being good at numbers, decided to take u...</td>\n",
       "      <td>Neutral</td>\n",
       "    </tr>\n",
       "    <tr>\n",
       "      <th>3</th>\n",
       "      <td>Algy</td>\n",
       "      <td>First, we need to get ‘a’ alone. To do that, l...</td>\n",
       "      <td>sadness</td>\n",
       "    </tr>\n",
       "    <tr>\n",
       "      <th>4</th>\n",
       "      <td>Narrator</td>\n",
       "      <td>So, they added 1213 to -1147, making it 66.\\n\\...</td>\n",
       "      <td>Neutral</td>\n",
       "    </tr>\n",
       "  </tbody>\n",
       "</table>\n",
       "</div>"
      ],
      "text/plain": [
       "    speaker                                               text emotions\n",
       "0  Narrator  In a small town named Mathville, lived two bes...  Neutral\n",
       "1     Sammy  Solve -1147 = -11*a - 1213 for ‘a’. What is th...      joy\n",
       "2  Narrator  Algy, being good at numbers, decided to take u...  Neutral\n",
       "3      Algy  First, we need to get ‘a’ alone. To do that, l...  sadness\n",
       "4  Narrator  So, they added 1213 to -1147, making it 66.\\n\\...  Neutral"
      ]
     },
     "execution_count": 9,
     "metadata": {},
     "output_type": "execute_result"
    }
   ],
   "source": [
    "df.head()"
   ]
  },
  {
   "cell_type": "code",
   "execution_count": null,
   "id": "6f751ebb",
   "metadata": {},
   "outputs": [],
   "source": []
  }
 ],
 "metadata": {
  "kernelspec": {
   "display_name": "EmotionClassification",
   "language": "python",
   "name": "python3"
  },
  "language_info": {
   "codemirror_mode": {
    "name": "ipython",
    "version": 3
   },
   "file_extension": ".py",
   "mimetype": "text/x-python",
   "name": "python",
   "nbconvert_exporter": "python",
   "pygments_lexer": "ipython3",
   "version": "3.9.21"
  }
 },
 "nbformat": 4,
 "nbformat_minor": 5
}
